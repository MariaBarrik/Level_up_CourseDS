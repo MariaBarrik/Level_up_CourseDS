{
 "cells": [
  {
   "cell_type": "code",
   "execution_count": 1,
   "id": "f0445baf",
   "metadata": {},
   "outputs": [],
   "source": [
    "import pandas as pd\n",
    "import matplotlib.pyplot as plt\n",
    "import seaborn as sns"
   ]
  },
  {
   "cell_type": "code",
   "execution_count": 2,
   "id": "8ad804d1",
   "metadata": {},
   "outputs": [
    {
     "data": {
      "text/html": [
       "<div>\n",
       "<style scoped>\n",
       "    .dataframe tbody tr th:only-of-type {\n",
       "        vertical-align: middle;\n",
       "    }\n",
       "\n",
       "    .dataframe tbody tr th {\n",
       "        vertical-align: top;\n",
       "    }\n",
       "\n",
       "    .dataframe thead th {\n",
       "        text-align: right;\n",
       "    }\n",
       "</style>\n",
       "<table border=\"1\" class=\"dataframe\">\n",
       "  <thead>\n",
       "    <tr style=\"text-align: right;\">\n",
       "      <th></th>\n",
       "      <th>u_q</th>\n",
       "      <th>coolant</th>\n",
       "      <th>stator_winding</th>\n",
       "      <th>u_d</th>\n",
       "      <th>stator_tooth</th>\n",
       "      <th>motor_speed</th>\n",
       "      <th>i_d</th>\n",
       "      <th>i_q</th>\n",
       "      <th>pm</th>\n",
       "      <th>stator_yoke</th>\n",
       "      <th>ambient</th>\n",
       "      <th>torque</th>\n",
       "      <th>profile_id</th>\n",
       "    </tr>\n",
       "  </thead>\n",
       "  <tbody>\n",
       "    <tr>\n",
       "      <th>0</th>\n",
       "      <td>-0.450682</td>\n",
       "      <td>18.805172</td>\n",
       "      <td>19.086670</td>\n",
       "      <td>-0.350055</td>\n",
       "      <td>18.293219</td>\n",
       "      <td>0.002866</td>\n",
       "      <td>0.004419</td>\n",
       "      <td>0.000328</td>\n",
       "      <td>24.554214</td>\n",
       "      <td>18.316547</td>\n",
       "      <td>19.850691</td>\n",
       "      <td>0.187101</td>\n",
       "      <td>17</td>\n",
       "    </tr>\n",
       "    <tr>\n",
       "      <th>1</th>\n",
       "      <td>-0.325737</td>\n",
       "      <td>18.818571</td>\n",
       "      <td>19.092390</td>\n",
       "      <td>-0.305803</td>\n",
       "      <td>18.294807</td>\n",
       "      <td>0.000257</td>\n",
       "      <td>0.000606</td>\n",
       "      <td>-0.000785</td>\n",
       "      <td>24.538078</td>\n",
       "      <td>18.314955</td>\n",
       "      <td>19.850672</td>\n",
       "      <td>0.245417</td>\n",
       "      <td>17</td>\n",
       "    </tr>\n",
       "    <tr>\n",
       "      <th>2</th>\n",
       "      <td>-0.440864</td>\n",
       "      <td>18.828770</td>\n",
       "      <td>19.089380</td>\n",
       "      <td>-0.372503</td>\n",
       "      <td>18.294094</td>\n",
       "      <td>0.002355</td>\n",
       "      <td>0.001290</td>\n",
       "      <td>0.000386</td>\n",
       "      <td>24.544693</td>\n",
       "      <td>18.326307</td>\n",
       "      <td>19.850657</td>\n",
       "      <td>0.176615</td>\n",
       "      <td>17</td>\n",
       "    </tr>\n",
       "    <tr>\n",
       "      <th>3</th>\n",
       "      <td>-0.327026</td>\n",
       "      <td>18.835567</td>\n",
       "      <td>19.083031</td>\n",
       "      <td>-0.316199</td>\n",
       "      <td>18.292542</td>\n",
       "      <td>0.006105</td>\n",
       "      <td>0.000026</td>\n",
       "      <td>0.002046</td>\n",
       "      <td>24.554018</td>\n",
       "      <td>18.330833</td>\n",
       "      <td>19.850647</td>\n",
       "      <td>0.238303</td>\n",
       "      <td>17</td>\n",
       "    </tr>\n",
       "    <tr>\n",
       "      <th>4</th>\n",
       "      <td>-0.471150</td>\n",
       "      <td>18.857033</td>\n",
       "      <td>19.082525</td>\n",
       "      <td>-0.332272</td>\n",
       "      <td>18.291428</td>\n",
       "      <td>0.003133</td>\n",
       "      <td>-0.064317</td>\n",
       "      <td>0.037184</td>\n",
       "      <td>24.565397</td>\n",
       "      <td>18.326662</td>\n",
       "      <td>19.850639</td>\n",
       "      <td>0.208197</td>\n",
       "      <td>17</td>\n",
       "    </tr>\n",
       "    <tr>\n",
       "      <th>5</th>\n",
       "      <td>-0.538973</td>\n",
       "      <td>18.901548</td>\n",
       "      <td>19.077108</td>\n",
       "      <td>0.009147</td>\n",
       "      <td>18.290628</td>\n",
       "      <td>0.009636</td>\n",
       "      <td>-0.613635</td>\n",
       "      <td>0.336747</td>\n",
       "      <td>24.573601</td>\n",
       "      <td>18.323862</td>\n",
       "      <td>19.850634</td>\n",
       "      <td>0.476218</td>\n",
       "      <td>17</td>\n",
       "    </tr>\n",
       "    <tr>\n",
       "      <th>6</th>\n",
       "      <td>-0.653148</td>\n",
       "      <td>18.941711</td>\n",
       "      <td>19.074583</td>\n",
       "      <td>0.238890</td>\n",
       "      <td>18.292524</td>\n",
       "      <td>0.001337</td>\n",
       "      <td>-1.005647</td>\n",
       "      <td>0.554211</td>\n",
       "      <td>24.576578</td>\n",
       "      <td>18.321936</td>\n",
       "      <td>19.850630</td>\n",
       "      <td>0.670015</td>\n",
       "      <td>17</td>\n",
       "    </tr>\n",
       "    <tr>\n",
       "      <th>7</th>\n",
       "      <td>-0.758392</td>\n",
       "      <td>18.960861</td>\n",
       "      <td>19.082499</td>\n",
       "      <td>0.395099</td>\n",
       "      <td>18.294041</td>\n",
       "      <td>0.001422</td>\n",
       "      <td>-1.288384</td>\n",
       "      <td>0.706370</td>\n",
       "      <td>24.574949</td>\n",
       "      <td>18.314655</td>\n",
       "      <td>19.850628</td>\n",
       "      <td>0.752035</td>\n",
       "      <td>17</td>\n",
       "    </tr>\n",
       "    <tr>\n",
       "      <th>8</th>\n",
       "      <td>-0.727128</td>\n",
       "      <td>18.973545</td>\n",
       "      <td>19.085533</td>\n",
       "      <td>0.546623</td>\n",
       "      <td>18.291964</td>\n",
       "      <td>0.000577</td>\n",
       "      <td>-1.490530</td>\n",
       "      <td>0.817339</td>\n",
       "      <td>24.567080</td>\n",
       "      <td>18.306925</td>\n",
       "      <td>19.850626</td>\n",
       "      <td>0.910541</td>\n",
       "      <td>17</td>\n",
       "    </tr>\n",
       "    <tr>\n",
       "      <th>9</th>\n",
       "      <td>-0.874307</td>\n",
       "      <td>18.987812</td>\n",
       "      <td>19.076025</td>\n",
       "      <td>0.578944</td>\n",
       "      <td>18.287233</td>\n",
       "      <td>-0.001248</td>\n",
       "      <td>-1.634464</td>\n",
       "      <td>0.898013</td>\n",
       "      <td>24.553242</td>\n",
       "      <td>18.301733</td>\n",
       "      <td>19.850624</td>\n",
       "      <td>0.924010</td>\n",
       "      <td>17</td>\n",
       "    </tr>\n",
       "  </tbody>\n",
       "</table>\n",
       "</div>"
      ],
      "text/plain": [
       "        u_q    coolant  stator_winding       u_d  stator_tooth  motor_speed  \\\n",
       "0 -0.450682  18.805172       19.086670 -0.350055     18.293219     0.002866   \n",
       "1 -0.325737  18.818571       19.092390 -0.305803     18.294807     0.000257   \n",
       "2 -0.440864  18.828770       19.089380 -0.372503     18.294094     0.002355   \n",
       "3 -0.327026  18.835567       19.083031 -0.316199     18.292542     0.006105   \n",
       "4 -0.471150  18.857033       19.082525 -0.332272     18.291428     0.003133   \n",
       "5 -0.538973  18.901548       19.077108  0.009147     18.290628     0.009636   \n",
       "6 -0.653148  18.941711       19.074583  0.238890     18.292524     0.001337   \n",
       "7 -0.758392  18.960861       19.082499  0.395099     18.294041     0.001422   \n",
       "8 -0.727128  18.973545       19.085533  0.546623     18.291964     0.000577   \n",
       "9 -0.874307  18.987812       19.076025  0.578944     18.287233    -0.001248   \n",
       "\n",
       "        i_d       i_q         pm  stator_yoke    ambient    torque  profile_id  \n",
       "0  0.004419  0.000328  24.554214    18.316547  19.850691  0.187101          17  \n",
       "1  0.000606 -0.000785  24.538078    18.314955  19.850672  0.245417          17  \n",
       "2  0.001290  0.000386  24.544693    18.326307  19.850657  0.176615          17  \n",
       "3  0.000026  0.002046  24.554018    18.330833  19.850647  0.238303          17  \n",
       "4 -0.064317  0.037184  24.565397    18.326662  19.850639  0.208197          17  \n",
       "5 -0.613635  0.336747  24.573601    18.323862  19.850634  0.476218          17  \n",
       "6 -1.005647  0.554211  24.576578    18.321936  19.850630  0.670015          17  \n",
       "7 -1.288384  0.706370  24.574949    18.314655  19.850628  0.752035          17  \n",
       "8 -1.490530  0.817339  24.567080    18.306925  19.850626  0.910541          17  \n",
       "9 -1.634464  0.898013  24.553242    18.301733  19.850624  0.924010          17  "
      ]
     },
     "execution_count": 2,
     "metadata": {},
     "output_type": "execute_result"
    }
   ],
   "source": [
    "df = pd.read_csv('/Users/mariabaranova/Desktop/DS/measures_v2.csv')\n",
    "df.head(10)"
   ]
  },
  {
   "cell_type": "code",
   "execution_count": 3,
   "id": "6e6bc625",
   "metadata": {},
   "outputs": [],
   "source": [
    "X = df.drop(['motor_speed', 'profile_id'], axis = 1)\n",
    "y = df['motor_speed']"
   ]
  },
  {
   "cell_type": "code",
   "execution_count": 4,
   "id": "9a4bdbda",
   "metadata": {},
   "outputs": [],
   "source": [
    "from sklearn.model_selection import train_test_split\n",
    "\n",
    "X_train, X_test, y_train, y_test = train_test_split(X, y, test_size=0.15)"
   ]
  },
  {
   "cell_type": "code",
   "execution_count": 5,
   "id": "9103500d",
   "metadata": {},
   "outputs": [
    {
     "data": {
      "text/html": [
       "<style>#sk-container-id-1 {color: black;background-color: white;}#sk-container-id-1 pre{padding: 0;}#sk-container-id-1 div.sk-toggleable {background-color: white;}#sk-container-id-1 label.sk-toggleable__label {cursor: pointer;display: block;width: 100%;margin-bottom: 0;padding: 0.3em;box-sizing: border-box;text-align: center;}#sk-container-id-1 label.sk-toggleable__label-arrow:before {content: \"▸\";float: left;margin-right: 0.25em;color: #696969;}#sk-container-id-1 label.sk-toggleable__label-arrow:hover:before {color: black;}#sk-container-id-1 div.sk-estimator:hover label.sk-toggleable__label-arrow:before {color: black;}#sk-container-id-1 div.sk-toggleable__content {max-height: 0;max-width: 0;overflow: hidden;text-align: left;background-color: #f0f8ff;}#sk-container-id-1 div.sk-toggleable__content pre {margin: 0.2em;color: black;border-radius: 0.25em;background-color: #f0f8ff;}#sk-container-id-1 input.sk-toggleable__control:checked~div.sk-toggleable__content {max-height: 200px;max-width: 100%;overflow: auto;}#sk-container-id-1 input.sk-toggleable__control:checked~label.sk-toggleable__label-arrow:before {content: \"▾\";}#sk-container-id-1 div.sk-estimator input.sk-toggleable__control:checked~label.sk-toggleable__label {background-color: #d4ebff;}#sk-container-id-1 div.sk-label input.sk-toggleable__control:checked~label.sk-toggleable__label {background-color: #d4ebff;}#sk-container-id-1 input.sk-hidden--visually {border: 0;clip: rect(1px 1px 1px 1px);clip: rect(1px, 1px, 1px, 1px);height: 1px;margin: -1px;overflow: hidden;padding: 0;position: absolute;width: 1px;}#sk-container-id-1 div.sk-estimator {font-family: monospace;background-color: #f0f8ff;border: 1px dotted black;border-radius: 0.25em;box-sizing: border-box;margin-bottom: 0.5em;}#sk-container-id-1 div.sk-estimator:hover {background-color: #d4ebff;}#sk-container-id-1 div.sk-parallel-item::after {content: \"\";width: 100%;border-bottom: 1px solid gray;flex-grow: 1;}#sk-container-id-1 div.sk-label:hover label.sk-toggleable__label {background-color: #d4ebff;}#sk-container-id-1 div.sk-serial::before {content: \"\";position: absolute;border-left: 1px solid gray;box-sizing: border-box;top: 0;bottom: 0;left: 50%;z-index: 0;}#sk-container-id-1 div.sk-serial {display: flex;flex-direction: column;align-items: center;background-color: white;padding-right: 0.2em;padding-left: 0.2em;position: relative;}#sk-container-id-1 div.sk-item {position: relative;z-index: 1;}#sk-container-id-1 div.sk-parallel {display: flex;align-items: stretch;justify-content: center;background-color: white;position: relative;}#sk-container-id-1 div.sk-item::before, #sk-container-id-1 div.sk-parallel-item::before {content: \"\";position: absolute;border-left: 1px solid gray;box-sizing: border-box;top: 0;bottom: 0;left: 50%;z-index: -1;}#sk-container-id-1 div.sk-parallel-item {display: flex;flex-direction: column;z-index: 1;position: relative;background-color: white;}#sk-container-id-1 div.sk-parallel-item:first-child::after {align-self: flex-end;width: 50%;}#sk-container-id-1 div.sk-parallel-item:last-child::after {align-self: flex-start;width: 50%;}#sk-container-id-1 div.sk-parallel-item:only-child::after {width: 0;}#sk-container-id-1 div.sk-dashed-wrapped {border: 1px dashed gray;margin: 0 0.4em 0.5em 0.4em;box-sizing: border-box;padding-bottom: 0.4em;background-color: white;}#sk-container-id-1 div.sk-label label {font-family: monospace;font-weight: bold;display: inline-block;line-height: 1.2em;}#sk-container-id-1 div.sk-label-container {text-align: center;}#sk-container-id-1 div.sk-container {/* jupyter's `normalize.less` sets `[hidden] { display: none; }` but bootstrap.min.css set `[hidden] { display: none !important; }` so we also need the `!important` here to be able to override the default hidden behavior on the sphinx rendered scikit-learn.org. See: https://github.com/scikit-learn/scikit-learn/issues/21755 */display: inline-block !important;position: relative;}#sk-container-id-1 div.sk-text-repr-fallback {display: none;}</style><div id=\"sk-container-id-1\" class=\"sk-top-container\"><div class=\"sk-text-repr-fallback\"><pre>LinearRegression()</pre><b>In a Jupyter environment, please rerun this cell to show the HTML representation or trust the notebook. <br />On GitHub, the HTML representation is unable to render, please try loading this page with nbviewer.org.</b></div><div class=\"sk-container\" hidden><div class=\"sk-item\"><div class=\"sk-estimator sk-toggleable\"><input class=\"sk-toggleable__control sk-hidden--visually\" id=\"sk-estimator-id-1\" type=\"checkbox\" checked><label for=\"sk-estimator-id-1\" class=\"sk-toggleable__label sk-toggleable__label-arrow\">LinearRegression</label><div class=\"sk-toggleable__content\"><pre>LinearRegression()</pre></div></div></div></div></div>"
      ],
      "text/plain": [
       "LinearRegression()"
      ]
     },
     "execution_count": 5,
     "metadata": {},
     "output_type": "execute_result"
    }
   ],
   "source": [
    "from sklearn.linear_model import LinearRegression\n",
    "lr = LinearRegression()\n",
    "lr.fit(X_train, y_train)"
   ]
  },
  {
   "cell_type": "code",
   "execution_count": 6,
   "id": "602ce586",
   "metadata": {},
   "outputs": [],
   "source": [
    "y_train_predicted = lr.predict(X_train)\n",
    "y_test_predicted = lr.predict(X_test)"
   ]
  },
  {
   "cell_type": "code",
   "execution_count": 7,
   "id": "5e806b5e",
   "metadata": {},
   "outputs": [
    {
     "data": {
      "text/plain": [
       "(342.79795634139543, 341.7768055317672)"
      ]
     },
     "execution_count": 7,
     "metadata": {},
     "output_type": "execute_result"
    }
   ],
   "source": [
    "from sklearn.metrics import mean_absolute_error, mean_squared_error\n",
    "mean_absolute_error(y_train_predicted, y_train), mean_absolute_error(y_test_predicted, y_test)"
   ]
  },
  {
   "cell_type": "code",
   "execution_count": 8,
   "id": "d19c850d",
   "metadata": {},
   "outputs": [
    {
     "data": {
      "text/plain": [
       "(219353.19125609507, 218174.0043168791)"
      ]
     },
     "execution_count": 8,
     "metadata": {},
     "output_type": "execute_result"
    }
   ],
   "source": [
    "mean_squared_error(y_train_predicted, y_train), mean_squared_error(y_test_predicted, y_test)"
   ]
  },
  {
   "cell_type": "code",
   "execution_count": 9,
   "id": "ea7482b6",
   "metadata": {},
   "outputs": [
    {
     "name": "stdout",
     "output_type": "stream",
     "text": [
      "accuracy: [0.93966528 0.9483338  0.91189471 0.90107202 0.93216905]\n"
     ]
    }
   ],
   "source": [
    "from sklearn.model_selection import cross_val_score\n",
    "scores = cross_val_score(lr, X, y, cv=5)\n",
    "print(\"accuracy: {}\".format(scores))"
   ]
  },
  {
   "cell_type": "code",
   "execution_count": 14,
   "id": "feefa53a",
   "metadata": {},
   "outputs": [
    {
     "data": {
      "text/plain": [
       "(33424, 13)"
      ]
     },
     "execution_count": 14,
     "metadata": {},
     "output_type": "execute_result"
    }
   ],
   "source": [
    "group_id = df.groupby('profile_id')\n",
    "group_id_17 = group_id.get_group(4)\n",
    "group_id_17.shape"
   ]
  },
  {
   "cell_type": "code",
   "execution_count": 15,
   "id": "f61999cb",
   "metadata": {},
   "outputs": [
    {
     "data": {
      "text/html": [
       "<div>\n",
       "<style scoped>\n",
       "    .dataframe tbody tr th:only-of-type {\n",
       "        vertical-align: middle;\n",
       "    }\n",
       "\n",
       "    .dataframe tbody tr th {\n",
       "        vertical-align: top;\n",
       "    }\n",
       "\n",
       "    .dataframe thead th {\n",
       "        text-align: right;\n",
       "    }\n",
       "</style>\n",
       "<table border=\"1\" class=\"dataframe\">\n",
       "  <thead>\n",
       "    <tr style=\"text-align: right;\">\n",
       "      <th></th>\n",
       "      <th>u_q</th>\n",
       "      <th>coolant</th>\n",
       "      <th>stator_winding</th>\n",
       "      <th>u_d</th>\n",
       "      <th>stator_tooth</th>\n",
       "      <th>i_d</th>\n",
       "      <th>i_q</th>\n",
       "      <th>pm</th>\n",
       "      <th>stator_yoke</th>\n",
       "      <th>ambient</th>\n",
       "      <th>torque</th>\n",
       "    </tr>\n",
       "  </thead>\n",
       "  <tbody>\n",
       "    <tr>\n",
       "      <th>110332</th>\n",
       "      <td>-0.876308</td>\n",
       "      <td>17.558941</td>\n",
       "      <td>18.636782</td>\n",
       "      <td>1.191286</td>\n",
       "      <td>18.133976</td>\n",
       "      <td>-1.973073</td>\n",
       "      <td>1.083640</td>\n",
       "      <td>22.959057</td>\n",
       "      <td>18.201054</td>\n",
       "      <td>23.646744</td>\n",
       "      <td>0.435272</td>\n",
       "    </tr>\n",
       "    <tr>\n",
       "      <th>110333</th>\n",
       "      <td>-0.868898</td>\n",
       "      <td>17.590738</td>\n",
       "      <td>18.647318</td>\n",
       "      <td>1.307029</td>\n",
       "      <td>18.161402</td>\n",
       "      <td>-1.977168</td>\n",
       "      <td>1.086277</td>\n",
       "      <td>22.953550</td>\n",
       "      <td>18.209829</td>\n",
       "      <td>23.610411</td>\n",
       "      <td>0.518918</td>\n",
       "    </tr>\n",
       "    <tr>\n",
       "      <th>110334</th>\n",
       "      <td>-1.048028</td>\n",
       "      <td>17.598307</td>\n",
       "      <td>18.654879</td>\n",
       "      <td>1.514929</td>\n",
       "      <td>18.178177</td>\n",
       "      <td>-1.981125</td>\n",
       "      <td>1.087644</td>\n",
       "      <td>22.949497</td>\n",
       "      <td>18.220852</td>\n",
       "      <td>23.588314</td>\n",
       "      <td>0.495170</td>\n",
       "    </tr>\n",
       "    <tr>\n",
       "      <th>110335</th>\n",
       "      <td>-1.049341</td>\n",
       "      <td>17.596458</td>\n",
       "      <td>18.647297</td>\n",
       "      <td>1.577056</td>\n",
       "      <td>18.198172</td>\n",
       "      <td>-1.761789</td>\n",
       "      <td>0.979492</td>\n",
       "      <td>22.965916</td>\n",
       "      <td>18.222155</td>\n",
       "      <td>23.592031</td>\n",
       "      <td>0.558552</td>\n",
       "    </tr>\n",
       "    <tr>\n",
       "      <th>110336</th>\n",
       "      <td>-1.104186</td>\n",
       "      <td>17.596216</td>\n",
       "      <td>18.633831</td>\n",
       "      <td>1.677850</td>\n",
       "      <td>18.205481</td>\n",
       "      <td>-1.828795</td>\n",
       "      <td>1.012324</td>\n",
       "      <td>22.961769</td>\n",
       "      <td>18.218958</td>\n",
       "      <td>23.605129</td>\n",
       "      <td>0.553410</td>\n",
       "    </tr>\n",
       "  </tbody>\n",
       "</table>\n",
       "</div>"
      ],
      "text/plain": [
       "             u_q    coolant  stator_winding       u_d  stator_tooth       i_d  \\\n",
       "110332 -0.876308  17.558941       18.636782  1.191286     18.133976 -1.973073   \n",
       "110333 -0.868898  17.590738       18.647318  1.307029     18.161402 -1.977168   \n",
       "110334 -1.048028  17.598307       18.654879  1.514929     18.178177 -1.981125   \n",
       "110335 -1.049341  17.596458       18.647297  1.577056     18.198172 -1.761789   \n",
       "110336 -1.104186  17.596216       18.633831  1.677850     18.205481 -1.828795   \n",
       "\n",
       "             i_q         pm  stator_yoke    ambient    torque  \n",
       "110332  1.083640  22.959057    18.201054  23.646744  0.435272  \n",
       "110333  1.086277  22.953550    18.209829  23.610411  0.518918  \n",
       "110334  1.087644  22.949497    18.220852  23.588314  0.495170  \n",
       "110335  0.979492  22.965916    18.222155  23.592031  0.558552  \n",
       "110336  1.012324  22.961769    18.218958  23.605129  0.553410  "
      ]
     },
     "execution_count": 15,
     "metadata": {},
     "output_type": "execute_result"
    }
   ],
   "source": [
    "X_group_id_17 = group_id_17.drop(['motor_speed', 'profile_id'], axis = 1)\n",
    "y_group_id_17 = group_id_17['motor_speed']\n",
    "X_group_id_17.head()"
   ]
  },
  {
   "cell_type": "code",
   "execution_count": 16,
   "id": "fe1e1e8c",
   "metadata": {},
   "outputs": [],
   "source": [
    "y_group_id_17_predicted = lr.predict(X_group_id_17)"
   ]
  },
  {
   "cell_type": "code",
   "execution_count": 17,
   "id": "c2b5243b",
   "metadata": {},
   "outputs": [
    {
     "data": {
      "image/png": "[encoded data removed]",
      "text/plain": [
       "<Figure size 640x480 with 1 Axes>"
      ]
     },
     "metadata": {},
     "output_type": "display_data"
    }
   ],
   "source": [
    "plt.scatter(y_group_id_17, y_group_id_17_predicted)\n",
    "plt.xlabel('True motor speed in 17 profile')\n",
    "plt.ylabel('Predicted motor spin in 17 profile')\n",
    "\n",
    "plt.show()"
   ]
  },
  {
   "cell_type": "code",
   "execution_count": null,
   "id": "514e28af",
   "metadata": {},
   "outputs": [],
   "source": []
  }
 ],
 "metadata": {
  "kernelspec": {
   "display_name": "Python 3 (ipykernel)",
   "language": "python",
   "name": "python3"
  },
  "language_info": {
   "codemirror_mode": {
    "name": "ipython",
    "version": 3
   },
   "file_extension": ".py",
   "mimetype": "text/x-python",
   "name": "python",
   "nbconvert_exporter": "python",
   "pygments_lexer": "ipython3",
   "version": "3.10.9"
  }
 },
 "nbformat": 4,
 "nbformat_minor": 5
}
