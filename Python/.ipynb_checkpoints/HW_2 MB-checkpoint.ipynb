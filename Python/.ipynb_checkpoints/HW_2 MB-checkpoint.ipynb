{
 "cells": [
  {
   "cell_type": "markdown",
   "id": "4d20b408",
   "metadata": {},
   "source": [
    "## Класс человека\n",
    "Моделирование человека — классическое упражнение для людей, которые пытаются научиться писать классы. Мы все знакомы с характеристиками и поведением людей, поэтому стоит попробовать это упражнение.\n",
    "* Определите класс Person().\n",
    "* В функции __init()__ определите несколько атрибутов человека. Хорошими атрибутами, которые следует учитывать, являются имя, возраст, место рождения и все, что вам нужно знать о людях в вашей жизни. Не менее 3 атрибутов.\n",
    "* Напишите один метод. Это может быть просто introduce_yourself(). Этот метод выводит такое утверждение, как «Здравствуйте, меня зовут Эрик».\n",
    "* Вы также можете создать такой метод, как age_person(). Простая версия этого метода просто добавит 1 к возрасту человека.\n",
    "* Создайте человека, установите соответствующие значения атрибутов и выведите информацию о человеке.\n",
    "* Вызовите свой метод для человека, которого вы создали. Убедитесь, что ваш метод выполняется правильно; если метод ничего не выводит напрямую, напечатайте что-нибудь до и после вызова метода, чтобы убедиться, что он сделал то, что предполагалось."
   ]
  },
  {
   "cell_type": "code",
   "execution_count": 15,
   "id": "487e27d0",
   "metadata": {},
   "outputs": [
    {
     "name": "stdout",
     "output_type": "stream",
     "text": [
      "Hello, my name is Maria Baranova . I am 28 yaers old. I am a Junior Data Scientist .\n",
      "Hello! My name is Maria\n",
      "And now I am  29\n"
     ]
    }
   ],
   "source": [
    "class Person():\n",
    "    #Person is a model of a human\n",
    "    def __init__(self, name = 'Maria', surname = 'Baranova', age = 28, profession = 'Junior Data Scientist'):\n",
    "        #Each human has a name,surname, age and a profession\n",
    "        self.name = name\n",
    "        self.surname = surname\n",
    "        self.age = age\n",
    "        self.profession = profession\n",
    "    def  introduce_yourself(self):\n",
    "        #Tells his/her name\n",
    "        print('Hello! My name is '+ self.name)\n",
    "    def age_person(self):\n",
    "        #Makes one year older\n",
    "        self.age += 1\n",
    "\n",
    "my_person = Person()\n",
    "print('Hello, my name is', my_person.name, my_person.surname, '. I am', my_person.age, 'yaers old. I am a', my_person.profession, '.' )\n",
    "my_person.introduce_yourself()\n",
    "my_person.age_person()\n",
    "print('And now I am ', my_person.age)\n",
    "        "
   ]
  },
  {
   "cell_type": "markdown",
   "id": "b0feab5a",
   "metadata": {},
   "source": [
    "## Студенческий класс\n",
    "\n",
    "* Начните с вашей программы из класса Person.\n",
    "* Создайте новый класс под названием Student, который наследуется от Person.\n",
    "* Определите некоторые качества, которые есть у учащегося, которых нет у других людей.\n",
    "    У учащегося есть школа, с которой он связан, год выпуска, средний балл и другие особые атрибуты.\n",
    "* Создайте объект Student и докажите, что вы правильно использовали наследование.\n",
    "* Установите некоторые значения атрибутов для учащегося, которые закодированы только в классе Person.\n",
    "* Установите некоторые значения атрибутов для учащегося, которые закодированы только в классе учащегося.\n",
    "* Выведите значения для всех этих атрибутов."
   ]
  },
  {
   "cell_type": "code",
   "execution_count": 21,
   "id": "543fece6",
   "metadata": {},
   "outputs": [
    {
     "name": "stdout",
     "output_type": "stream",
     "text": [
      "Maria\n",
      "Maths, Biology, Chemistry\n",
      "Peter\n",
      "Maths, Physics, Informatics\n"
     ]
    }
   ],
   "source": [
    "class Student(Person):\n",
    "    def __init__(self, name = 'Maria', surname = 'Baranova', age = 28, profession = 'Junior Data Scientist', school = 'physics and mathematics lyceum', grad_year = '2011', avg_score = '4,5', exams = 'Maths, Biology, Chemistry'):\n",
    "        super().__init__(name, surname, age, profession)\n",
    "        self.school = school\n",
    "        self.grad_year = grad_year\n",
    "        self.avg_score = avg_score\n",
    "        self.exams = exams\n",
    "        \n",
    "my_student = Student()\n",
    "print(my_student.name)\n",
    "print(my_student.exams)\n",
    "other_student = Student('Peter', 'Peterov', 18, 'Programmer', 'school № 1', '2022', '4,6', 'Maths, Physics, Informatics')\n",
    "print(other_student.name)\n",
    "print(other_student.exams)"
   ]
  },
  {
   "cell_type": "code",
   "execution_count": null,
   "id": "e28be34a",
   "metadata": {},
   "outputs": [],
   "source": []
  },
  {
   "cell_type": "code",
   "execution_count": null,
   "id": "34d20e1b",
   "metadata": {},
   "outputs": [],
   "source": []
  }
 ],
 "metadata": {
  "kernelspec": {
   "display_name": "Python 3 (ipykernel)",
   "language": "python",
   "name": "python3"
  },
  "language_info": {
   "codemirror_mode": {
    "name": "ipython",
    "version": 3
   },
   "file_extension": ".py",
   "mimetype": "text/x-python",
   "name": "python",
   "nbconvert_exporter": "python",
   "pygments_lexer": "ipython3",
   "version": "3.10.9"
  }
 },
 "nbformat": 4,
 "nbformat_minor": 5
}
