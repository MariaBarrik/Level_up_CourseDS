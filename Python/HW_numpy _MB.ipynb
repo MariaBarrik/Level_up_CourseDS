{
 "cells": [
  {
   "cell_type": "markdown",
   "metadata": {},
   "source": [
    "## Задание 1\n",
    "Создайте numpy array с элементами от числа N до 0 (например, для N = 10 это будет array([9, 8, 7, 6, 5, 4, 3, 2, 1, 0]))."
   ]
  },
  {
   "cell_type": "code",
   "execution_count": 18,
   "metadata": {},
   "outputs": [
    {
     "name": "stdout",
     "output_type": "stream",
     "text": [
      "20\n"
     ]
    },
    {
     "data": {
      "text/plain": [
       "array([19, 18, 17, 16, 15, 14, 13, 12, 11, 10,  9,  8,  7,  6,  5,  4,  3,\n",
       "        2,  1,  0])"
      ]
     },
     "execution_count": 18,
     "metadata": {},
     "output_type": "execute_result"
    }
   ],
   "source": [
    "import numpy as np\n",
    "N = int(input())\n",
    "x = np.arange(N-1, -1, -1)\n",
    "x"
   ]
  },
  {
   "cell_type": "markdown",
   "metadata": {},
   "source": [
    "## Задание 2\n",
    "Создайте диагональную матрицу с элементами от N до 0. Посчитайте сумму ее значений на диагонали."
   ]
  },
  {
   "cell_type": "code",
   "execution_count": 21,
   "metadata": {},
   "outputs": [
    {
     "name": "stdout",
     "output_type": "stream",
     "text": [
      "10\n"
     ]
    },
    {
     "data": {
      "text/plain": [
       "45"
      ]
     },
     "execution_count": 21,
     "metadata": {},
     "output_type": "execute_result"
    }
   ],
   "source": [
    "N = int(input())\n",
    "X = np.diag(np.arange(N-1, -1, -1))\n",
    "X\n",
    "np.sum(X)"
   ]
  },
  {
   "cell_type": "markdown",
   "metadata": {},
   "source": [
    "## Задание 3\n",
    "Решите систему уравнений:\n",
    "* 4x + 2y + z = 4\n",
    "* x + 3y = 12\n",
    "* 5y + 4z = -3"
   ]
  },
  {
   "cell_type": "code",
   "execution_count": 23,
   "metadata": {},
   "outputs": [
    {
     "data": {
      "text/plain": [
       "array([ 0.46666667,  3.84444444, -5.55555556])"
      ]
     },
     "execution_count": 23,
     "metadata": {},
     "output_type": "execute_result"
    }
   ],
   "source": [
    "# для самостоятельного изучения\n",
    "from numpy import linalg\n",
    "M1 = np.array([[4,2,1], [1,3,0], [0,5,4]])\n",
    "v1 = ([4, 12, -3])\n",
    "linalg.solve(M1, v1)"
   ]
  },
  {
   "cell_type": "markdown",
   "metadata": {},
   "source": [
    "## Задание 4\n",
    "Вам подаются на вход два вектора a и b в трехмерном пространстве.Заполните их случайными числами. Реализуйте их скалярное произведение с помощью NumPy."
   ]
  },
  {
   "cell_type": "code",
   "execution_count": 93,
   "metadata": {},
   "outputs": [
    {
     "data": {
      "text/plain": [
       "array([[[[0.72577524, 0.89248825, 0.30599706],\n",
       "         [0.95450818, 0.91408161, 1.02782588],\n",
       "         [1.0329871 , 0.61741332, 0.7178533 ]],\n",
       "\n",
       "        [[0.87265719, 1.10454337, 0.55898562],\n",
       "         [1.19099327, 1.25289979, 1.28257826],\n",
       "         [1.31571365, 0.84134612, 1.07586051]],\n",
       "\n",
       "        [[0.25548806, 0.28080274, 0.48122859],\n",
       "         [0.35904681, 0.54960172, 0.49974308],\n",
       "         [0.57658611, 0.38449046, 0.70128166]]],\n",
       "\n",
       "\n",
       "       [[[1.0084201 , 1.05223641, 0.53446219],\n",
       "         [1.21724047, 1.19984693, 1.55587228],\n",
       "         [1.62702348, 0.85728411, 1.19010571]],\n",
       "\n",
       "        [[0.86285721, 0.76108951, 0.64859139],\n",
       "         [0.97392666, 1.04940542, 1.4618944 ],\n",
       "         [1.59003149, 0.78518166, 1.29018571]],\n",
       "\n",
       "        [[0.35391028, 0.38507683, 0.61691811],\n",
       "         [0.48887679, 0.72460247, 0.67800356],\n",
       "         [0.77643536, 0.50805179, 0.91463187]]],\n",
       "\n",
       "\n",
       "       [[[0.60050835, 0.37754102, 0.61575851],\n",
       "         [0.59860347, 0.72492601, 1.14558665],\n",
       "         [1.30022351, 0.58180409, 1.14273497]],\n",
       "\n",
       "        [[0.53465953, 0.41914813, 0.38151922],\n",
       "         [0.56694993, 0.59610337, 0.92496619],\n",
       "         [1.01308226, 0.4623284 , 0.79370436]],\n",
       "\n",
       "        [[0.89691007, 0.84928268, 0.49827545],\n",
       "         [1.0290964 , 1.01614655, 1.43379462],\n",
       "         [1.52163679, 0.749242  , 1.11519309]]]])"
      ]
     },
     "execution_count": 93,
     "metadata": {},
     "output_type": "execute_result"
    }
   ],
   "source": [
    "a = np.random.rand(3,3,3)\n",
    "b = np.random.rand(3, 3, 3)\n",
    "np.dot(a,b)"
   ]
  },
  {
   "cell_type": "markdown",
   "metadata": {},
   "source": [
    "## Задание 5\n",
    "\n",
    "Создайте вектор от 0 до 27. Сделайте его глубокую копию и измените размерность на 3d"
   ]
  },
  {
   "cell_type": "code",
   "execution_count": 28,
   "metadata": {},
   "outputs": [
    {
     "data": {
      "text/plain": [
       "array([[[ 0,  1,  2],\n",
       "        [ 3,  4,  5],\n",
       "        [ 6,  7,  8]],\n",
       "\n",
       "       [[ 9, 10, 11],\n",
       "        [12, 13, 14],\n",
       "        [15, 16, 17]],\n",
       "\n",
       "       [[18, 19, 20],\n",
       "        [21, 22, 23],\n",
       "        [24, 25, 26]]])"
      ]
     },
     "execution_count": 28,
     "metadata": {},
     "output_type": "execute_result"
    }
   ],
   "source": [
    "a = np.arange(27)\n",
    "a\n",
    "b = np.copy(a)\n",
    "b = b.reshape(3, 3, 3)\n",
    "b"
   ]
  },
  {
   "cell_type": "markdown",
   "metadata": {},
   "source": [
    "## Задание 6\n",
    "\n",
    "Конвертируйте двухмерную бинарную мартицу в матрицу типа bool"
   ]
  },
  {
   "cell_type": "code",
   "execution_count": 34,
   "metadata": {},
   "outputs": [
    {
     "data": {
      "text/plain": [
       "array([[ True, False, False],\n",
       "       [ True,  True, False],\n",
       "       [False, False, False]])"
      ]
     },
     "execution_count": 34,
     "metadata": {},
     "output_type": "execute_result"
    }
   ],
   "source": [
    "C = np.array([[1, 0, 0], [1, 1, 0], [0, 0, 0]])\n",
    "C1 = C.astype(bool)\n",
    "C1"
   ]
  },
  {
   "cell_type": "markdown",
   "metadata": {},
   "source": [
    "## Задание 7\n",
    "\n",
    "Создайте две матрицы 2 на 3 и сделайте их горизонтальный стакинг "
   ]
  },
  {
   "cell_type": "code",
   "execution_count": 37,
   "metadata": {},
   "outputs": [
    {
     "data": {
      "text/plain": [
       "array([[ 0,  1,  2, 10, 11, 12],\n",
       "       [ 3,  4,  5, 13, 14, 15]])"
      ]
     },
     "execution_count": 37,
     "metadata": {},
     "output_type": "execute_result"
    }
   ],
   "source": [
    "F = np.arange(6).reshape(2, 3)\n",
    "K = np.arange(10,16).reshape(2, 3)\n",
    "np.hstack((F, K))"
   ]
  },
  {
   "cell_type": "markdown",
   "metadata": {},
   "source": [
    "## Задание 8\n",
    "\n",
    "Создайте две матрицы 3 на 2 и сделайте их вертикальный стакинг "
   ]
  },
  {
   "cell_type": "code",
   "execution_count": 39,
   "metadata": {},
   "outputs": [
    {
     "data": {
      "text/plain": [
       "array([[20, 21],\n",
       "       [22, 23],\n",
       "       [24, 25],\n",
       "       [30, 31],\n",
       "       [32, 33],\n",
       "       [34, 35]])"
      ]
     },
     "execution_count": 39,
     "metadata": {},
     "output_type": "execute_result"
    }
   ],
   "source": [
    "M = np.arange(20, 26).reshape(3, 2)\n",
    "N = np.arange(30,36).reshape(3, 2)\n",
    "np.vstack((M, N))"
   ]
  },
  {
   "cell_type": "markdown",
   "metadata": {},
   "source": [
    "## Задание 9\n",
    "\n",
    "Напишите функцию, которая на вход принимает 2 вектора и возвращает тот из них, что больше. Функцию необходимо векторизовать."
   ]
  },
  {
   "cell_type": "code",
   "execution_count": 149,
   "metadata": {},
   "outputs": [
    {
     "name": "stdout",
     "output_type": "stream",
     "text": [
      "[150   6   7]\n"
     ]
    }
   ],
   "source": [
    "def vector_max(x, y):\n",
    "    x_norm = np.linalg.norm(x)\n",
    "    y_norm = np.linalg.norm(y)\n",
    "    \n",
    "    if x_norm > y_norm:\n",
    "        return x\n",
    "    else:\n",
    "        return y\n",
    "    \n",
    "\n",
    "print(vector_max(np.array([10, 20, 30]), np.array([150, 6, 7])))"
   ]
  },
  {
   "cell_type": "markdown",
   "metadata": {},
   "source": [
    "## Задание 8\n",
    "\n",
    "Создайте две матрицы 3 на 2 и сделайте их вертикальный стакинг "
   ]
  },
  {
   "cell_type": "code",
   "execution_count": 153,
   "metadata": {},
   "outputs": [
    {
     "data": {
      "text/plain": [
       "array([[ 7,  8],\n",
       "       [ 9, 10],\n",
       "       [11, 12],\n",
       "       [ 3,  4],\n",
       "       [ 5,  6],\n",
       "       [ 7,  8]])"
      ]
     },
     "execution_count": 153,
     "metadata": {},
     "output_type": "execute_result"
    }
   ],
   "source": [
    "M = np.arange(7, 13).reshape(3, 2)\n",
    "N = np.arange(3,9).reshape(3, 2)\n",
    "np.vstack((M, N))"
   ]
  },
  {
   "cell_type": "markdown",
   "metadata": {},
   "source": [
    "## Задание 9\n",
    "\n",
    "С помощью маски по числам > 15 преобразуйте матрицу ниже в бинарную."
   ]
  },
  {
   "cell_type": "code",
   "execution_count": 54,
   "metadata": {},
   "outputs": [
    {
     "data": {
      "text/plain": [
       "array([[0, 0, 0, 0, 1, 0, 0, 0, 0],\n",
       "       [0, 0, 0, 0, 0, 1, 0, 0, 0],\n",
       "       [0, 0, 0, 0, 0, 1, 0, 0, 0],\n",
       "       [0, 0, 1, 0, 0, 1, 0, 0, 0],\n",
       "       [0, 0, 1, 0, 0, 0, 1, 0, 0],\n",
       "       [0, 0, 1, 0, 0, 0, 1, 0, 0],\n",
       "       [0, 1, 0, 0, 0, 0, 0, 0, 0],\n",
       "       [0, 1, 0, 0, 0, 0, 0, 1, 0],\n",
       "       [0, 1, 0, 0, 0, 0, 0, 1, 0],\n",
       "       [0, 1, 1, 1, 1, 1, 1, 1, 0],\n",
       "       [0, 1, 0, 0, 0, 0, 0, 1, 0],\n",
       "       [0, 1, 0, 0, 0, 0, 0, 1, 0],\n",
       "       [0, 1, 0, 0, 0, 0, 0, 1, 0],\n",
       "       [0, 1, 0, 0, 0, 0, 0, 1, 0],\n",
       "       [0, 1, 0, 0, 0, 0, 0, 1, 0]])"
      ]
     },
     "execution_count": 54,
     "metadata": {},
     "output_type": "execute_result"
    }
   ],
   "source": [
    "A = np.array([\n",
    "[12, 13, 14, 12, 16, 14, 11, 10,  9],\n",
    "[11, 14, 12, 15, 15, 16, 10, 12, 11],\n",
    "[10, 12, 12, 15, 14, 16, 10, 12, 12],\n",
    "[ 9, 11, 16, 15, 14, 16, 15, 12, 10],\n",
    "[12, 11, 16, 14, 10, 12, 16, 12, 13],\n",
    "[10, 15, 16, 14, 14, 14, 16, 15, 12],\n",
    "[13, 17, 14, 10, 14, 11, 14, 15, 10],\n",
    "[10, 16, 12, 14, 11, 12, 14, 18, 11],\n",
    "[10, 19, 12, 14, 11, 12, 14, 18, 10],\n",
    "[14, 22, 17, 19, 16, 17, 18, 17, 13],\n",
    "[10, 16, 12, 14, 11, 12, 14, 18, 11],\n",
    "[10, 16, 12, 14, 11, 12, 14, 18, 11],\n",
    "[10, 19, 12, 14, 11, 12, 14, 18, 10],\n",
    "[14, 22, 12, 14, 11, 12, 14, 17, 13],\n",
    "[10, 16, 12, 14, 11, 12, 14, 18, 11]])\n",
    "\n",
    "mask = (A > 15).astype(int)\n",
    "mask"
   ]
  },
  {
   "cell_type": "markdown",
   "metadata": {},
   "source": [
    "## Задание 10\n",
    "\n",
    "Используя пример из классной работы с рисованием графика среднемесячной температуры, создайте два вектора длиной 100 следуя следующим условиям: \n",
    "Вектор 1: случайные числа\n",
    "Вектор 2: нормальное распределение\n",
    "\n",
    "Визуализируйте оба вектора."
   ]
  },
  {
   "cell_type": "code",
   "execution_count": 157,
   "metadata": {
    "scrolled": false
   },
   "outputs": [
    {
     "data": {
      "text/plain": [
       "(array([ 9.,  7., 10., 11., 12.,  8., 11., 16.,  8.,  8.]),\n",
       " array([0.04015997, 0.13590935, 0.23165873, 0.32740811, 0.42315749,\n",
       "        0.51890687, 0.61465626, 0.71040564, 0.80615502, 0.9019044 ,\n",
       "        0.99765378]),\n",
       " <BarContainer object of 10 artists>)"
      ]
     },
     "execution_count": 157,
     "metadata": {},
     "output_type": "execute_result"
    },
    {
     "data": {
      "image/png": "[encoded data removed]",
      "text/plain": [
       "<Figure size 640x480 with 1 Axes>"
      ]
     },
     "metadata": {},
     "output_type": "display_data"
    }
   ],
   "source": [
    "import matplotlib.pyplot as plt\n",
    "Q = np.random.rand(100)\n",
    "plt.hist(Q, label='Random')\n"
   ]
  },
  {
   "cell_type": "code",
   "execution_count": 155,
   "metadata": {
    "scrolled": false
   },
   "outputs": [
    {
     "data": {
      "text/plain": [
       "(array([ 1.,  5.,  5., 20., 16., 20., 15.,  9.,  5.,  4.]),\n",
       " array([-3.12775031, -2.53540714, -1.94306398, -1.35072082, -0.75837765,\n",
       "        -0.16603449,  0.42630867,  1.01865183,  1.610995  ,  2.20333816,\n",
       "         2.79568132]),\n",
       " <BarContainer object of 10 artists>)"
      ]
     },
     "execution_count": 155,
     "metadata": {},
     "output_type": "execute_result"
    },
    {
     "data": {
      "image/png": "[encoded data removed]",
      "text/plain": [
       "<Figure size 640x480 with 1 Axes>"
      ]
     },
     "metadata": {},
     "output_type": "display_data"
    }
   ],
   "source": [
    "J = np.random.randn(100)\n",
    "plt.hist(J, label='Normal')\n"
   ]
  },
  {
   "cell_type": "code",
   "execution_count": null,
   "metadata": {},
   "outputs": [],
   "source": []
  }
 ],
 "metadata": {
  "kernelspec": {
   "display_name": "Python 3 (ipykernel)",
   "language": "python",
   "name": "python3"
  },
  "language_info": {
   "codemirror_mode": {
    "name": "ipython",
    "version": 3
   },
   "file_extension": ".py",
   "mimetype": "text/x-python",
   "name": "python",
   "nbconvert_exporter": "python",
   "pygments_lexer": "ipython3",
   "version": "3.10.9"
  }
 },
 "nbformat": 4,
 "nbformat_minor": 4
}
